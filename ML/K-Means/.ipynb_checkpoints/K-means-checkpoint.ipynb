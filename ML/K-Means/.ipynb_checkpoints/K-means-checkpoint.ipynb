{
 "cells": [
  {
   "cell_type": "code",
   "execution_count": 29,
   "id": "cc8779ac",
   "metadata": {},
   "outputs": [],
   "source": [
    "import numpy as np\n",
    "import matplotlib.pyplot as plt\n",
    "from sklearn.datasets import make_blobs\n",
    "import random"
   ]
  },
  {
   "cell_type": "code",
   "execution_count": 19,
   "id": "023733c8",
   "metadata": {},
   "outputs": [],
   "source": [
    "X,Y=make_blobs(n_samples=500,centers=5,random_state=3)"
   ]
  },
  {
   "cell_type": "code",
   "execution_count": 20,
   "id": "cdf74309",
   "metadata": {},
   "outputs": [
    {
     "name": "stdout",
     "output_type": "stream",
     "text": [
      "(500, 2) (500,)\n"
     ]
    }
   ],
   "source": [
    "print(X.shape,Y.shape)\n"
   ]
  },
  {
   "cell_type": "code",
   "execution_count": 25,
   "id": "5cc9e260",
   "metadata": {},
   "outputs": [
    {
     "data": {
      "image/png": "[encoded data removed]",
      "text/plain": [
       "<Figure size 432x288 with 1 Axes>"
      ]
     },
     "metadata": {
      "needs_background": "light"
     },
     "output_type": "display_data"
    }
   ],
   "source": [
    "plt.figure(0)\n",
    "plt.grid(True)\n",
    "plt.scatter(X[:,0],X[:,1])\n",
    "plt.show()"
   ]
  },
  {
   "cell_type": "code",
   "execution_count": 39,
   "id": "984d9561",
   "metadata": {},
   "outputs": [],
   "source": [
    "k=5\n",
    "\n",
    "color=['green','red','blue','yellow','orange']\n",
    "clusters={}\n",
    "\n",
    "for i in range(k):\n",
    "    center= 10*(2*np.random.random((X.shape[1],))-1) #generating point between -10 to 10\n",
    "    points=[]\n",
    "    \n",
    "    cluster={\n",
    "             'center': center,\n",
    "             'points':points,\n",
    "             'color':color[i]\n",
    "        \n",
    "              }\n",
    "    clusters[i]=cluster \n",
    "    "
   ]
  },
  {
   "cell_type": "code",
   "execution_count": 41,
   "id": "0cbf796c",
   "metadata": {},
   "outputs": [
    {
     "data": {
      "text/plain": [
       "{0: {'center': array([-6.57609085,  6.0874033 ]),\n",
       "  'points': [],\n",
       "  'color': 'green'},\n",
       " 1: {'center': array([5.69917001, 3.57911656]), 'points': [], 'color': 'red'},\n",
       " 2: {'center': array([3.06774736, 4.38026004]), 'points': [], 'color': 'blue'},\n",
       " 3: {'center': array([-2.67143979,  5.20845359]),\n",
       "  'points': [],\n",
       "  'color': 'yellow'},\n",
       " 4: {'center': array([-2.64509239,  4.27379163]),\n",
       "  'points': [],\n",
       "  'color': 'orange'}}"
      ]
     },
     "execution_count": 41,
     "metadata": {},
     "output_type": "execute_result"
    }
   ],
   "source": [
    "clusters"
   ]
  },
  {
   "cell_type": "code",
   "execution_count": 42,
   "id": "5b923442",
   "metadata": {},
   "outputs": [],
   "source": [
    "def distance(v1,v2):\n",
    "    return np.sqrt(np.sum((v1-v2)**2))\n"
   ]
  },
  {
   "cell_type": "code",
   "execution_count": 44,
   "id": "16b47c56",
   "metadata": {},
   "outputs": [
    {
     "data": {
      "text/plain": [
       "3.605551275463989"
      ]
     },
     "execution_count": 44,
     "metadata": {},
     "output_type": "execute_result"
    }
   ],
   "source": [
    "v1=np.array([1,2])\n",
    "v2=np.array([3,5])\n",
    "distance(v1,v2)"
   ]
  },
  {
   "cell_type": "code",
   "execution_count": 63,
   "id": "138a3d5a",
   "metadata": {},
   "outputs": [],
   "source": [
    "\n",
    "#E step - Assign evry point to one of the clusters \n",
    "\n",
    "def assignPointsToClusters(clusters):\n",
    "    \n",
    "    for i in range(X.shape[0]):\n",
    "        dist=[]\n",
    "        curr_point=X[i]\n",
    "\n",
    "        for kx in range(k):\n",
    "            d=distance(curr_point,clusters[kx]['center'])\n",
    "            dist.append(d)\n",
    "\n",
    "            curr_cluster=np.argmin(dist)\n",
    "\n",
    "            clusters[curr_cluster]['points'].append(curr_point)\n",
    "        \n",
    "def UpdateClusters(clusters): #M-Step update every cluster center according to mean of points\n",
    "    \n",
    "    for kx in range(k):\n",
    "        pts=np.array(cluster[kx]['points'])\n",
    "        \n",
    "        if pts.shape[0]>0: #to check if the cluster is not empty\n",
    "            new_center = pts.mean(axis=0)\n",
    "            clusters[kx]['center']=new_center\n",
    "            cluster[kx]['points']=[]\n",
    "        \n",
    "\n",
    "\n",
    "def plotClusters(clusters):\n",
    "    \n",
    "    for kx in range(k):\n",
    "        pts=np.array(clusters[kx]['points'])\n",
    "        print(pts.shape)\n",
    "        \n",
    "        try:\n",
    "            plt.scatter(pts[:,0],pts[:,1],color=clusters[kx]['color'])\n",
    "        except:\n",
    "            pass\n",
    "        \n",
    "        #plotting clusters center\n",
    "        center=clusters[kx]['center']\n",
    "        plt.scatter(center[0],center[1],color='black',marker='*')\n",
    "        \n",
    "    \n",
    "   \n",
    "\n",
    "    \n",
    "    "
   ]
  },
  {
   "cell_type": "code",
   "execution_count": 64,
   "id": "c28eff0c",
   "metadata": {},
   "outputs": [
    {
     "name": "stdout",
     "output_type": "stream",
     "text": [
      "(1367, 2)\n",
      "(494, 2)\n",
      "(266, 2)\n",
      "(155, 2)\n",
      "(218, 2)\n"
     ]
    },
    {
     "data": {
      "image/png": "[encoded data removed]",
      "text/plain": [
       "<Figure size 432x288 with 1 Axes>"
      ]
     },
     "metadata": {
      "needs_background": "light"
     },
     "output_type": "display_data"
    }
   ],
   "source": [
    "plotClusters(clusters)"
   ]
  },
  {
   "cell_type": "code",
   "execution_count": null,
   "id": "c3e47362",
   "metadata": {},
   "outputs": [],
   "source": []
  }
 ],
 "metadata": {
  "kernelspec": {
   "display_name": "Python 3.9 (tensorflow)",
   "language": "python",
   "name": "tensorflow"
  },
  "language_info": {
   "codemirror_mode": {
    "name": "ipython",
    "version": 3
   },
   "file_extension": ".py",
   "mimetype": "text/x-python",
   "name": "python",
   "nbconvert_exporter": "python",
   "pygments_lexer": "ipython3",
   "version": "3.9.7"
  }
 },
 "nbformat": 4,
 "nbformat_minor": 5
}
